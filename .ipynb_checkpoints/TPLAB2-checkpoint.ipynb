{
 "cells": [
  {
   "cell_type": "markdown",
   "id": "b09a26a8",
   "metadata": {},
   "source": [
    "<img src=\"./logo_UTN.svg\" align=\"right\" width=\"150\" /> \n",
    "\n",
    "\n",
    "\n",
    "# Trabajo Semanal Nº 14\n",
    "\n",
    "## Teoría de los Circuitos 2\n",
    "\n",
    "#### Juan Camilo Mariscal Gutierrez\n"
   ]
  },
  {
   "cell_type": "markdown",
   "id": "f4786833",
   "metadata": {},
   "source": [
    "## Objetivos:\n",
    "\n",
    "Diseñe el cuadripolo A para que se comporte como\n",
    "\n",
    "Filtro pasa bajos Bessel de 3er. orden.\n",
    "\n",
    "No disipativo.\n",
    "\n",
    "Normalizado en frecuencia e impedancia.\n",
    "\n",
    "\n",
    "\n",
    "### Consignas\n",
    "\n",
    "1 Obtenga la impedancia de entrada al cuadripolo A, cargado con un resistor de 1Ω a la salida.\n",
    "\n",
    "2 Sintetice A como un cuadripolo escalera.\n",
    "\n",
    "3 Simule el comportamiento de la red en LTspice graficando S21 y S11 en función de la frecuencia.\n",
    "\n",
    "4 Explique el comportamiento de A a partir de los valores de S11 en las siguientes frecuencias.\n",
    "(centro de la banda de paso, frecuencia de corte, transición y centro de la banda de detenida)\n",
    "\n",
    "5 Modifique el circuito para que la frecuencia de corte sea 2 π 10⁶ rad/s y la resistencia del generador sea 50Ω.\n",
    "\n",
    "<img src=\"./cuadripolo.png\"  /> \n",
    "\n"
   ]
  },
  {
   "cell_type": "markdown",
   "id": "515a3868",
   "metadata": {},
   "source": [
    "## Desarrollo numerico "
   ]
  },
  {
   "cell_type": "markdown",
   "id": "1ea06ef0",
   "metadata": {},
   "source": [
    "##### filtro pasa bajos Bessel de orden 3\n",
    "\n",
    "\\begin{equation}\n",
    "S_{21(s)}= \\frac{V_O}{V_I}=\\frac{15}{S^3 + 6S^2 +15S + 15} \n",
    "\\end{equation}\n",
    "\n",
    "##### sabemos que \n",
    "\n",
    "\\begin{equation}\n",
    "|S_{11(s)}|^2 + |S_{21(s)}|^2= 1\n",
    "\\end{equation}\n",
    "\n",
    "\n",
    "##### Multiplicamos S21 y S21 conjudada para obtener el modulo de S21\n",
    "\\begin{equation}\n",
    "|S_{21(s)}|^2 = S_{21(s)} * S_{21(-s)}\n",
    "\\end{equation}\n",
    "\n",
    "\n",
    "\\begin{equation}\n",
    "|S_{21(s)}|^2 =\\frac{15}{S^3 + 6S^2 +15S + 15}  * \\frac{15}{-S^3 + 6S^2 -15S + 15} \n",
    "\\end{equation}\n",
    "\n",
    "\n",
    "\\begin{equation}\n",
    "|S_{21(s)}|^2 =\\frac{225}{-S^6 + 6S^4 + 45S + 225}\n",
    "\\end{equation}\n",
    "\n",
    "\n",
    "\\begin{equation}\n",
    "|S_{11(s)}|^2 = 1 -|S_{21(s)}|^2\n",
    "\\end{equation}\n",
    "\n",
    "\\begin{equation}\n",
    "|S_{11(s)}|^2 = 1 - \\frac{225}{-S^6 + 6S^4 + 45S + 225}\n",
    "\\end{equation}\n",
    "\n",
    "\\begin{equation}\n",
    "|S_{11(s)}|^2 = \\frac{-S^6 + 6S^4 + 45S}{-S^6 + 6S^4 + 45S + 225}\n",
    "\\end{equation}"
   ]
  },
  {
   "cell_type": "markdown",
   "id": "65692e60",
   "metadata": {},
   "source": [
    "## Utilizo Python para hallar S11"
   ]
  },
  {
   "cell_type": "code",
   "execution_count": 6,
   "id": "be9ea266",
   "metadata": {},
   "outputs": [],
   "source": [
    "import numpy as np\n",
    "from IPython.display import display, Markdown\n",
    "import matplotlib.pyplot as plt\n",
    "from scipy import signal as signal\n",
    "from pytc2.sistemas_lineales import bodePlot, pzmap, GroupDelay, analyze_sys, tf2sos_analog, pretty_print_SOS\n",
    "from pytc2.dibujar import display, dibujar_puerto_entrada, dibujar_funcion_exc_abajo,  dibujar_elemento_serie, dibujar_elemento_derivacion,  dibujar_tanque_derivacion, dibujar_tanque_RC_serie,  dibujar_espacio_derivacion, Capacitor, Resistor, Inductor\n",
    "\n",
    "## setear en True para ver logs de dev\n",
    "dev = False\n",
    "\n",
    "num = np.array([-1, 0, 6, 0, -45, 0, 0])\n",
    "den = np.array([-1, 0, 6, 0, -45, 0, 225])\n",
    "roots_num = np.roots(num)\n",
    "num_poly_result = np.polymul(np.array([-1, roots_num[0]]), np.array([-1, roots_num[1]]))\n",
    "roots_den = np.roots(den)\n",
    "sos_den = np.polymul(np.array([-1, roots_den[1]]), np.array([-1, roots_den[2]])).real\n",
    "fos_den = np.polymul(-1, roots_den[0]).real\n",
    "\n",
    "if dev == True:\n",
    "    print(roots_num)\n",
    "    print(roots_den)\n",
    "    print(num_poly_result)\n",
    "    print(num_poly_result.real)\n",
    "    print(sos_den)\n",
    "    print(fos_den)\n"
   ]
  },
  {
   "cell_type": "code",
   "execution_count": 5,
   "id": "67475085",
   "metadata": {},
   "outputs": [
    {
     "data": {
      "text/markdown": [
       "$S_{11}=\\frac{1.0 s^{3} + 4.40640532236865 s^{2} + 6.70820393249937 s}{\\left(s + 2.32218535462608\\right) \\left(1.0 s^{2} + 3.67781464537391 s + 6.45943269348336\\right)}$"
      ],
      "text/plain": [
       "<IPython.core.display.Markdown object>"
      ]
     },
     "metadata": {},
     "output_type": "display_data"
    }
   ],
   "source": [
    "import sympy as sp\n",
    "\n",
    "from pytc2.remociones import remover_polo_dc, remover_polo_infinito\n",
    "from pytc2.remociones import remover_valor_en_dc, remover_valor_en_infinito, remover_polo_sigma\n",
    "\n",
    "from pytc2.sintesis_dipolo import cauer_RC, foster\n",
    "from pytc2.dibujar import dibujar_cauer_RC_RL, dibujar_foster_derivacion, dibujar_foster_serie\n",
    "from pytc2.general import print_latex, print_subtitle, a_equal_b_latex_s\n",
    "from IPython.display import display,  Markdown\n",
    "\n",
    "s = sp.symbols('s', complex=True)\n",
    "b0, b1, b2, b3, a0, a1, a2 = sp.symbols('b0 b1 b2 b3 a0 a1 a2', real=True, positive=False)\n",
    "\n",
    "b0 = num_poly_result[0].real\n",
    "b1 = num_poly_result[1].real\n",
    "b2 = num_poly_result[2].real\n",
    "b3 = 0\n",
    "\n",
    "a0 = sos_den[0]\n",
    "a1 = sos_den[1]\n",
    "a2 = sos_den[2]\n",
    "\n",
    "\n",
    "s11 = (b0*s**3 + b1*s**2 + b2*s + b3) / ((s + fos_den[0])*(a0*s**2 + a1*s + a2))\n",
    "\n",
    "display(Markdown(f\"\"\"$S_{{11}}={sp.latex(s11)}$\"\"\"))\n"
   ]
  },
  {
   "cell_type": "markdown",
   "id": "e202621d",
   "metadata": {},
   "source": [
    "\\begin{equation}\n",
    "S_{11(s)} =\\frac{Z_{in} - R_{O1}}{Z_{in} + R_{O1}}  \n",
    "\\end{equation}\n",
    "\n",
    "##### si RO1 =1  y despejo Zin\n",
    "\n",
    "\\begin{equation}\n",
    "Z_{in} =\\frac{1 + S_{11(s)}}{1 -  S_{11(s)}}  \n",
    "\\end{equation}\n",
    " \n",
    "##### Utilizo valores de S11 con redondeo para hacer los calculos mas faciles \n",
    "\n",
    "\\begin{equation}\n",
    "Z_{in} =\\frac{1 + \\frac{S^3 + 4,406S^2 +6,71S}{S^3 + 6S^2 +15S +15}}{1 - \\frac{S^3 + 4,406S^2 +6,71S}{S^3 + 6S^2 +15S +15}}  \n",
    "\\end{equation}\n",
    "\n",
    "\\begin{equation}\n",
    "Z_{in} =\\frac{2S^3 + 10,406s^2 +21,71S +15}{ 1,594S^2 +8,29S +15} \n",
    "\\end{equation}\n",
    "\n"
   ]
  },
  {
   "cell_type": "markdown",
   "id": "cb8a517e",
   "metadata": {},
   "source": [
    "## Calculo de los componentes\n",
    "\n",
    "\n",
    "\n",
    "<img src=\"./circuito.jpg\"  /> \n"
   ]
  },
  {
   "cell_type": "markdown",
   "id": "62412256",
   "metadata": {},
   "source": [
    "# Simulacion del circuito en LTSpace"
   ]
  },
  {
   "cell_type": "markdown",
   "id": "a168898b",
   "metadata": {},
   "source": [
    "<img src=\"./simulado.png\"  />\n",
    "<img src=\"./S21.png\"  />\n",
    "<img src=\"./S11.png\"  />\n",
    "<img src=\"./S21 y S11.png\"  />"
   ]
  },
  {
   "cell_type": "markdown",
   "id": "f90efb36",
   "metadata": {},
   "source": [
    "##  Comportamiento de  S11\n",
    "\n",
    "Podemos observar que en el incio de la banda de paso de la S21 la S11 tiende a -infinito, es decir la red esta adaptada,\n",
    "la red la potencia reflejada al generador por desaptacion es muy poca.\n",
    "\n",
    "\n",
    "A medida que nos vamos acercando a la frecuencia de corte la adptacion se va reduciendo.\n",
    "\n",
    "Si la red empieza a desadaptartese la potencia reflejada al generador aumenta\n",
    "\n",
    "Una vez que estamos en la banda de detenida S11=1 es decir la red esta totalmente desadaptada en la banda de detenida.\n",
    "Si toda la potencia incidente se refleja no hay transferencia de potencia hacia la salida,esto perjudica el comportamiento de filtrado.\n",
    "\n",
    "\n"
   ]
  },
  {
   "cell_type": "markdown",
   "id": "2b195b49",
   "metadata": {},
   "source": [
    "## Desnormalizacion\n",
    "\n",
    "\n",
    "\\begin{equation}\n",
    "\\omega_o=2\\pi10^6\n",
    "\\end{equation}\n",
    "\n",
    "\\begin{equation}\n",
    "R=50 Ohms\n",
    "\\end{equation}\n",
    "\n",
    "#### Recalculo de los componentes \n",
    "\n",
    "\\begin{equation}\n",
    "L1'=\\frac{L1*R}{\\omega_o}\n",
    "\\end{equation}\n",
    "\\begin{equation}\n",
    "L1' = 9,98462629^{-6} H_y\n",
    "\\end{equation}\n",
    "\n",
    "\\begin{equation}\n",
    "C1'=\\frac{C1}{\\omega_o * R} \n",
    "\\end{equation}\n",
    "\n",
    "\\begin{equation}\n",
    "C1'= 1,759196853^{-9}F\n",
    "\\end{equation}\n",
    "\n",
    "\\begin{equation}\n",
    "L2'=\\frac{L2*R}{\\omega_o} \n",
    "\\end{equation}\n",
    "\\begin{equation}\n",
    "L2'= 1,530130717^{-6}H_y\n",
    "\\end{equation}"
   ]
  },
  {
   "cell_type": "markdown",
   "id": "15db5094",
   "metadata": {},
   "source": [
    "# Circuito desnormalizado\n",
    "\n",
    "<img src=\"./simulado_desnor.png\"  />\n",
    "<img src=\"./S21_desnor.png\"  />"
   ]
  }
 ],
 "metadata": {
  "kernelspec": {
   "display_name": "Python 3 (ipykernel)",
   "language": "python",
   "name": "python3"
  },
  "language_info": {
   "codemirror_mode": {
    "name": "ipython",
    "version": 3
   },
   "file_extension": ".py",
   "mimetype": "text/x-python",
   "name": "python",
   "nbconvert_exporter": "python",
   "pygments_lexer": "ipython3",
   "version": "3.10.9"
  }
 },
 "nbformat": 4,
 "nbformat_minor": 5
}
